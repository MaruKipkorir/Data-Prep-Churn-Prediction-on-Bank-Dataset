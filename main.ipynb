{
 "cells": [
  {
   "cell_type": "code",
   "id": "initial_id",
   "metadata": {
    "ExecuteTime": {
     "end_time": "2024-11-14T08:23:23.826239Z",
     "start_time": "2024-11-14T08:23:23.774127Z"
    }
   },
   "source": [
    "import pandas as pd\n",
    "df = pd.read_csv('data/Customer-Churn-Records.csv')\n",
    "pd.set_option('display.width', 1000)\n",
    "df.head()                "
   ],
   "outputs": [
    {
     "data": {
      "text/plain": [
       "   RowNumber  CustomerId   Surname  CreditScore Geography  Gender  Age  Tenure    Balance  NumOfProducts  HasCrCard  IsActiveMember  EstimatedSalary  Exited  Complain  Satisfaction Score Card Type  Point Earned\n",
       "0          1    15634602  Hargrave          619    France  Female   42       2       0.00              1          1               1        101348.88       1         1                   2   DIAMOND           464\n",
       "1          2    15647311      Hill          608     Spain  Female   41       1   83807.86              1          0               1        112542.58       0         1                   3   DIAMOND           456\n",
       "2          3    15619304      Onio          502    France  Female   42       8  159660.80              3          1               0        113931.57       1         1                   3   DIAMOND           377\n",
       "3          4    15701354      Boni          699    France  Female   39       1       0.00              2          0               0         93826.63       0         0                   5      GOLD           350\n",
       "4          5    15737888  Mitchell          850     Spain  Female   43       2  125510.82              1          1               1         79084.10       0         0                   5      GOLD           425"
      ],
      "text/html": [
       "<div>\n",
       "<style scoped>\n",
       "    .dataframe tbody tr th:only-of-type {\n",
       "        vertical-align: middle;\n",
       "    }\n",
       "\n",
       "    .dataframe tbody tr th {\n",
       "        vertical-align: top;\n",
       "    }\n",
       "\n",
       "    .dataframe thead th {\n",
       "        text-align: right;\n",
       "    }\n",
       "</style>\n",
       "<table border=\"1\" class=\"dataframe\">\n",
       "  <thead>\n",
       "    <tr style=\"text-align: right;\">\n",
       "      <th></th>\n",
       "      <th>RowNumber</th>\n",
       "      <th>CustomerId</th>\n",
       "      <th>Surname</th>\n",
       "      <th>CreditScore</th>\n",
       "      <th>Geography</th>\n",
       "      <th>Gender</th>\n",
       "      <th>Age</th>\n",
       "      <th>Tenure</th>\n",
       "      <th>Balance</th>\n",
       "      <th>NumOfProducts</th>\n",
       "      <th>HasCrCard</th>\n",
       "      <th>IsActiveMember</th>\n",
       "      <th>EstimatedSalary</th>\n",
       "      <th>Exited</th>\n",
       "      <th>Complain</th>\n",
       "      <th>Satisfaction Score</th>\n",
       "      <th>Card Type</th>\n",
       "      <th>Point Earned</th>\n",
       "    </tr>\n",
       "  </thead>\n",
       "  <tbody>\n",
       "    <tr>\n",
       "      <th>0</th>\n",
       "      <td>1</td>\n",
       "      <td>15634602</td>\n",
       "      <td>Hargrave</td>\n",
       "      <td>619</td>\n",
       "      <td>France</td>\n",
       "      <td>Female</td>\n",
       "      <td>42</td>\n",
       "      <td>2</td>\n",
       "      <td>0.00</td>\n",
       "      <td>1</td>\n",
       "      <td>1</td>\n",
       "      <td>1</td>\n",
       "      <td>101348.88</td>\n",
       "      <td>1</td>\n",
       "      <td>1</td>\n",
       "      <td>2</td>\n",
       "      <td>DIAMOND</td>\n",
       "      <td>464</td>\n",
       "    </tr>\n",
       "    <tr>\n",
       "      <th>1</th>\n",
       "      <td>2</td>\n",
       "      <td>15647311</td>\n",
       "      <td>Hill</td>\n",
       "      <td>608</td>\n",
       "      <td>Spain</td>\n",
       "      <td>Female</td>\n",
       "      <td>41</td>\n",
       "      <td>1</td>\n",
       "      <td>83807.86</td>\n",
       "      <td>1</td>\n",
       "      <td>0</td>\n",
       "      <td>1</td>\n",
       "      <td>112542.58</td>\n",
       "      <td>0</td>\n",
       "      <td>1</td>\n",
       "      <td>3</td>\n",
       "      <td>DIAMOND</td>\n",
       "      <td>456</td>\n",
       "    </tr>\n",
       "    <tr>\n",
       "      <th>2</th>\n",
       "      <td>3</td>\n",
       "      <td>15619304</td>\n",
       "      <td>Onio</td>\n",
       "      <td>502</td>\n",
       "      <td>France</td>\n",
       "      <td>Female</td>\n",
       "      <td>42</td>\n",
       "      <td>8</td>\n",
       "      <td>159660.80</td>\n",
       "      <td>3</td>\n",
       "      <td>1</td>\n",
       "      <td>0</td>\n",
       "      <td>113931.57</td>\n",
       "      <td>1</td>\n",
       "      <td>1</td>\n",
       "      <td>3</td>\n",
       "      <td>DIAMOND</td>\n",
       "      <td>377</td>\n",
       "    </tr>\n",
       "    <tr>\n",
       "      <th>3</th>\n",
       "      <td>4</td>\n",
       "      <td>15701354</td>\n",
       "      <td>Boni</td>\n",
       "      <td>699</td>\n",
       "      <td>France</td>\n",
       "      <td>Female</td>\n",
       "      <td>39</td>\n",
       "      <td>1</td>\n",
       "      <td>0.00</td>\n",
       "      <td>2</td>\n",
       "      <td>0</td>\n",
       "      <td>0</td>\n",
       "      <td>93826.63</td>\n",
       "      <td>0</td>\n",
       "      <td>0</td>\n",
       "      <td>5</td>\n",
       "      <td>GOLD</td>\n",
       "      <td>350</td>\n",
       "    </tr>\n",
       "    <tr>\n",
       "      <th>4</th>\n",
       "      <td>5</td>\n",
       "      <td>15737888</td>\n",
       "      <td>Mitchell</td>\n",
       "      <td>850</td>\n",
       "      <td>Spain</td>\n",
       "      <td>Female</td>\n",
       "      <td>43</td>\n",
       "      <td>2</td>\n",
       "      <td>125510.82</td>\n",
       "      <td>1</td>\n",
       "      <td>1</td>\n",
       "      <td>1</td>\n",
       "      <td>79084.10</td>\n",
       "      <td>0</td>\n",
       "      <td>0</td>\n",
       "      <td>5</td>\n",
       "      <td>GOLD</td>\n",
       "      <td>425</td>\n",
       "    </tr>\n",
       "  </tbody>\n",
       "</table>\n",
       "</div>"
      ]
     },
     "execution_count": 143,
     "metadata": {},
     "output_type": "execute_result"
    }
   ],
   "execution_count": 143
  },
  {
   "cell_type": "code",
   "id": "f5a95f5841ddd954",
   "metadata": {
    "ExecuteTime": {
     "end_time": "2024-11-14T08:23:26.026344Z",
     "start_time": "2024-11-14T08:23:25.921038Z"
    }
   },
   "source": [
    "# Get an overview of the dataset\n",
    "df.info()"
   ],
   "outputs": [
    {
     "name": "stdout",
     "output_type": "stream",
     "text": [
      "<class 'pandas.core.frame.DataFrame'>\n",
      "RangeIndex: 10000 entries, 0 to 9999\n",
      "Data columns (total 18 columns):\n",
      " #   Column              Non-Null Count  Dtype  \n",
      "---  ------              --------------  -----  \n",
      " 0   RowNumber           10000 non-null  int64  \n",
      " 1   CustomerId          10000 non-null  int64  \n",
      " 2   Surname             10000 non-null  object \n",
      " 3   CreditScore         10000 non-null  int64  \n",
      " 4   Geography           10000 non-null  object \n",
      " 5   Gender              10000 non-null  object \n",
      " 6   Age                 10000 non-null  int64  \n",
      " 7   Tenure              10000 non-null  int64  \n",
      " 8   Balance             10000 non-null  float64\n",
      " 9   NumOfProducts       10000 non-null  int64  \n",
      " 10  HasCrCard           10000 non-null  int64  \n",
      " 11  IsActiveMember      10000 non-null  int64  \n",
      " 12  EstimatedSalary     10000 non-null  float64\n",
      " 13  Exited              10000 non-null  int64  \n",
      " 14  Complain            10000 non-null  int64  \n",
      " 15  Satisfaction Score  10000 non-null  int64  \n",
      " 16  Card Type           10000 non-null  object \n",
      " 17  Point Earned        10000 non-null  int64  \n",
      "dtypes: float64(2), int64(12), object(4)\n",
      "memory usage: 1.4+ MB\n"
     ]
    }
   ],
   "execution_count": 144
  },
  {
   "cell_type": "code",
   "id": "53e7c4916c37b14f",
   "metadata": {
    "ExecuteTime": {
     "end_time": "2024-11-14T08:23:28.380868Z",
     "start_time": "2024-11-14T08:23:28.353490Z"
    }
   },
   "source": [
    "# Drop unnecessary columns\n",
    "df.drop(['RowNumber', 'Surname', 'CustomerId'], axis=1, inplace=True)\n",
    "# Convert specified columns to categorical data type\n",
    "categorical_columns = ['Gender', 'NumOfProducts', 'HasCrCard', 'IsActiveMember', 'Exited', 'Complain', 'Satisfaction Score', 'Card Type', 'Geography']\n",
    "df[categorical_columns] = df[categorical_columns].astype('category')\n",
    "\n",
    "df.dtypes"
   ],
   "outputs": [
    {
     "data": {
      "text/plain": [
       "CreditScore              int64\n",
       "Geography             category\n",
       "Gender                category\n",
       "Age                      int64\n",
       "Tenure                   int64\n",
       "Balance                float64\n",
       "NumOfProducts         category\n",
       "HasCrCard             category\n",
       "IsActiveMember        category\n",
       "EstimatedSalary        float64\n",
       "Exited                category\n",
       "Complain              category\n",
       "Satisfaction Score    category\n",
       "Card Type             category\n",
       "Point Earned             int64\n",
       "dtype: object"
      ]
     },
     "execution_count": 145,
     "metadata": {},
     "output_type": "execute_result"
    }
   ],
   "execution_count": 145
  },
  {
   "cell_type": "code",
   "id": "e0e2850db187adef",
   "metadata": {
    "ExecuteTime": {
     "end_time": "2024-11-14T08:23:30.888209Z",
     "start_time": "2024-11-14T08:23:30.849175Z"
    }
   },
   "source": [
    "# Descriptive Statistics\n",
    "# Select non-numeric columns for analysis\n",
    "non_numeric_columns = df.select_dtypes(exclude=['number'])\n",
    "\n",
    "# Display the count of unique values for each non-numeric column\n",
    "for col in non_numeric_columns:\n",
    "    print(df[col].value_counts())\n",
    "    \n",
    "# Generate descriptive statistics for numeric columns\n",
    "df.describe()"
   ],
   "outputs": [
    {
     "name": "stdout",
     "output_type": "stream",
     "text": [
      "Geography\n",
      "France     5014\n",
      "Germany    2509\n",
      "Spain      2477\n",
      "Name: count, dtype: int64\n",
      "Gender\n",
      "Male      5457\n",
      "Female    4543\n",
      "Name: count, dtype: int64\n",
      "NumOfProducts\n",
      "1    5084\n",
      "2    4590\n",
      "3     266\n",
      "4      60\n",
      "Name: count, dtype: int64\n",
      "HasCrCard\n",
      "1    7055\n",
      "0    2945\n",
      "Name: count, dtype: int64\n",
      "IsActiveMember\n",
      "1    5151\n",
      "0    4849\n",
      "Name: count, dtype: int64\n",
      "Exited\n",
      "0    7962\n",
      "1    2038\n",
      "Name: count, dtype: int64\n",
      "Complain\n",
      "0    7956\n",
      "1    2044\n",
      "Name: count, dtype: int64\n",
      "Satisfaction Score\n",
      "3    2042\n",
      "2    2014\n",
      "4    2008\n",
      "5    2004\n",
      "1    1932\n",
      "Name: count, dtype: int64\n",
      "Card Type\n",
      "DIAMOND     2507\n",
      "GOLD        2502\n",
      "SILVER      2496\n",
      "PLATINUM    2495\n",
      "Name: count, dtype: int64\n"
     ]
    },
    {
     "data": {
      "text/plain": [
       "        CreditScore           Age        Tenure        Balance  EstimatedSalary  Point Earned\n",
       "count  10000.000000  10000.000000  10000.000000   10000.000000     10000.000000  10000.000000\n",
       "mean     650.528800     38.921800      5.012800   76485.889288    100090.239881    606.515100\n",
       "std       96.653299     10.487806      2.892174   62397.405202     57510.492818    225.924839\n",
       "min      350.000000     18.000000      0.000000       0.000000        11.580000    119.000000\n",
       "25%      584.000000     32.000000      3.000000       0.000000     51002.110000    410.000000\n",
       "50%      652.000000     37.000000      5.000000   97198.540000    100193.915000    605.000000\n",
       "75%      718.000000     44.000000      7.000000  127644.240000    149388.247500    801.000000\n",
       "max      850.000000     92.000000     10.000000  250898.090000    199992.480000   1000.000000"
      ],
      "text/html": [
       "<div>\n",
       "<style scoped>\n",
       "    .dataframe tbody tr th:only-of-type {\n",
       "        vertical-align: middle;\n",
       "    }\n",
       "\n",
       "    .dataframe tbody tr th {\n",
       "        vertical-align: top;\n",
       "    }\n",
       "\n",
       "    .dataframe thead th {\n",
       "        text-align: right;\n",
       "    }\n",
       "</style>\n",
       "<table border=\"1\" class=\"dataframe\">\n",
       "  <thead>\n",
       "    <tr style=\"text-align: right;\">\n",
       "      <th></th>\n",
       "      <th>CreditScore</th>\n",
       "      <th>Age</th>\n",
       "      <th>Tenure</th>\n",
       "      <th>Balance</th>\n",
       "      <th>EstimatedSalary</th>\n",
       "      <th>Point Earned</th>\n",
       "    </tr>\n",
       "  </thead>\n",
       "  <tbody>\n",
       "    <tr>\n",
       "      <th>count</th>\n",
       "      <td>10000.000000</td>\n",
       "      <td>10000.000000</td>\n",
       "      <td>10000.000000</td>\n",
       "      <td>10000.000000</td>\n",
       "      <td>10000.000000</td>\n",
       "      <td>10000.000000</td>\n",
       "    </tr>\n",
       "    <tr>\n",
       "      <th>mean</th>\n",
       "      <td>650.528800</td>\n",
       "      <td>38.921800</td>\n",
       "      <td>5.012800</td>\n",
       "      <td>76485.889288</td>\n",
       "      <td>100090.239881</td>\n",
       "      <td>606.515100</td>\n",
       "    </tr>\n",
       "    <tr>\n",
       "      <th>std</th>\n",
       "      <td>96.653299</td>\n",
       "      <td>10.487806</td>\n",
       "      <td>2.892174</td>\n",
       "      <td>62397.405202</td>\n",
       "      <td>57510.492818</td>\n",
       "      <td>225.924839</td>\n",
       "    </tr>\n",
       "    <tr>\n",
       "      <th>min</th>\n",
       "      <td>350.000000</td>\n",
       "      <td>18.000000</td>\n",
       "      <td>0.000000</td>\n",
       "      <td>0.000000</td>\n",
       "      <td>11.580000</td>\n",
       "      <td>119.000000</td>\n",
       "    </tr>\n",
       "    <tr>\n",
       "      <th>25%</th>\n",
       "      <td>584.000000</td>\n",
       "      <td>32.000000</td>\n",
       "      <td>3.000000</td>\n",
       "      <td>0.000000</td>\n",
       "      <td>51002.110000</td>\n",
       "      <td>410.000000</td>\n",
       "    </tr>\n",
       "    <tr>\n",
       "      <th>50%</th>\n",
       "      <td>652.000000</td>\n",
       "      <td>37.000000</td>\n",
       "      <td>5.000000</td>\n",
       "      <td>97198.540000</td>\n",
       "      <td>100193.915000</td>\n",
       "      <td>605.000000</td>\n",
       "    </tr>\n",
       "    <tr>\n",
       "      <th>75%</th>\n",
       "      <td>718.000000</td>\n",
       "      <td>44.000000</td>\n",
       "      <td>7.000000</td>\n",
       "      <td>127644.240000</td>\n",
       "      <td>149388.247500</td>\n",
       "      <td>801.000000</td>\n",
       "    </tr>\n",
       "    <tr>\n",
       "      <th>max</th>\n",
       "      <td>850.000000</td>\n",
       "      <td>92.000000</td>\n",
       "      <td>10.000000</td>\n",
       "      <td>250898.090000</td>\n",
       "      <td>199992.480000</td>\n",
       "      <td>1000.000000</td>\n",
       "    </tr>\n",
       "  </tbody>\n",
       "</table>\n",
       "</div>"
      ]
     },
     "execution_count": 146,
     "metadata": {},
     "output_type": "execute_result"
    }
   ],
   "execution_count": 146
  },
  {
   "cell_type": "code",
   "id": "cdea64675f429898",
   "metadata": {
    "ExecuteTime": {
     "end_time": "2024-11-14T08:23:33.424128Z",
     "start_time": "2024-11-14T08:23:33.080373Z"
    }
   },
   "source": [
    "# Visualize distribution of the target variable\n",
    "import matplotlib.pyplot as plt\n",
    "import seaborn as sns\n",
    "\n",
    "g = sns.catplot(x='Exited', data=df, kind='count')\n",
    "g.set(title='Exited Status Distribution', xlabel='Exited Status', ylabel='Count', xticklabels=['No', 'Yes'])\n",
    "plt.show()"
   ],
   "outputs": [
    {
     "name": "stderr",
     "output_type": "stream",
     "text": [
      "C:\\Users\\USER\\anaconda3\\Lib\\site-packages\\seaborn\\axisgrid.py:44: UserWarning: set_ticklabels() should only be used with a fixed number of ticks, i.e. after set_ticks() or using a FixedLocator.\n",
      "  ax.set(**kwargs)\n"
     ]
    },
    {
     "data": {
      "text/plain": [
       "<Figure size 511.111x500 with 1 Axes>"
      ],
      "image/png": "[encoded data removed]"
     },
     "metadata": {},
     "output_type": "display_data"
    }
   ],
   "execution_count": 147
  },
  {
   "cell_type": "code",
   "id": "26b7db255f446799",
   "metadata": {
    "ExecuteTime": {
     "end_time": "2024-11-14T08:23:35.807127Z",
     "start_time": "2024-11-14T08:23:35.783569Z"
    }
   },
   "source": [
    "# Convert specified columns to dummy variables\n",
    "df = pd.get_dummies(df, columns=['Gender', 'Geography', 'Card Type'], prefix='')\n",
    "df.dtypes"
   ],
   "outputs": [
    {
     "data": {
      "text/plain": [
       "CreditScore              int64\n",
       "Age                      int64\n",
       "Tenure                   int64\n",
       "Balance                float64\n",
       "NumOfProducts         category\n",
       "HasCrCard             category\n",
       "IsActiveMember        category\n",
       "EstimatedSalary        float64\n",
       "Exited                category\n",
       "Complain              category\n",
       "Satisfaction Score    category\n",
       "Point Earned             int64\n",
       "_Female                   bool\n",
       "_Male                     bool\n",
       "_France                   bool\n",
       "_Germany                  bool\n",
       "_Spain                    bool\n",
       "_DIAMOND                  bool\n",
       "_GOLD                     bool\n",
       "_PLATINUM                 bool\n",
       "_SILVER                   bool\n",
       "dtype: object"
      ]
     },
     "execution_count": 148,
     "metadata": {},
     "output_type": "execute_result"
    }
   ],
   "execution_count": 148
  },
  {
   "cell_type": "code",
   "id": "f37e03481e9a31b9",
   "metadata": {
    "ExecuteTime": {
     "end_time": "2024-11-14T08:23:37.781385Z",
     "start_time": "2024-11-14T08:23:37.769304Z"
    }
   },
   "source": [
    "# Creating feature and target arrays\n",
    "# Features are all columns except the 'Exited' column\n",
    "X = df.drop(['Exited'], axis=1)\n",
    "# The 'Exited' column is the target variable\n",
    "y = df['Exited']\n",
    "print(X.shape, y.shape)"
   ],
   "outputs": [
    {
     "name": "stdout",
     "output_type": "stream",
     "text": [
      "(10000, 20) (10000,)\n"
     ]
    }
   ],
   "execution_count": 149
  },
  {
   "cell_type": "code",
   "id": "9b2aedb4b4197d26",
   "metadata": {
    "ExecuteTime": {
     "end_time": "2024-11-14T08:23:40.424945Z",
     "start_time": "2024-11-14T08:23:39.646454Z"
    }
   },
   "source": [
    "from sklearn.preprocessing import StandardScaler\n",
    "from sklearn.model_selection import train_test_split, KFold, cross_val_score\n",
    "from sklearn.linear_model import LogisticRegression\n",
    "from sklearn.neighbors import KNeighborsClassifier\n",
    "from sklearn.tree import DecisionTreeClassifier\n",
    "\n",
    "# Split the data into 80% training and 20% testing sets, with stratification based on the target variable\n",
    "X_train, X_test, y_train, y_test = train_test_split(X, y, test_size=0.2, random_state=20, stratify=y)\n",
    "\n",
    "# Standardize the feature data using StandardScaler\n",
    "scaler = StandardScaler()\n",
    "X_train = scaler.fit_transform(X_train)\n",
    "X_test = scaler.transform(X_test)\n",
    "\n",
    "# Initialize different models for comparison\n",
    "models = {\"Logistic Regression\": LogisticRegression(), \"KNN\": KNeighborsClassifier(), \"Decision Tree\": DecisionTreeClassifier()}\n",
    "results = []\n",
    "\n",
    "# Perform 10-fold cross-validation for each model\n",
    "for model in models.values():\n",
    "    kf = KFold(n_splits=10, random_state=20, shuffle=True)\n",
    "    cv_results = cross_val_score(model, X_train, y_train, cv=kf)\n",
    "    results.append(cv_results)\n",
    "\n",
    "# Plot boxplots of the cross-validation results for each model    \n",
    "plt.boxplot(results, tick_labels=models.keys())\n",
    "plt.show()"
   ],
   "outputs": [
    {
     "data": {
      "text/plain": [
       "<Figure size 640x480 with 1 Axes>"
      ],
      "image/png": "[encoded data removed]"
     },
     "metadata": {},
     "output_type": "display_data"
    }
   ],
   "execution_count": 150
  },
  {
   "metadata": {},
   "cell_type": "markdown",
   "source": "The lowest cross-validation score among all models is just below 0.98, and the highest is 1.0. This is unusually high, suggesting that the models are fitting the training data extremely well, potentially indicating overfitting.",
   "id": "ff23515d6d84003c"
  },
  {
   "cell_type": "code",
   "id": "628d19c46a338a2e",
   "metadata": {
    "ExecuteTime": {
     "end_time": "2024-11-14T08:24:06.442960Z",
     "start_time": "2024-11-14T08:24:06.207862Z"
    }
   },
   "source": [
    "# Train and evaluate each model using the testing set\n",
    "for name, model in models.items():\n",
    "    model.fit(X_train, y_train)\n",
    "    test_score = model.score(X_test, y_test)\n",
    "    # Print the model name and its accuracy score\n",
    "    print(name, test_score)"
   ],
   "outputs": [
    {
     "name": "stdout",
     "output_type": "stream",
     "text": [
      "Logistic Regression 0.9965\n",
      "KNN 0.9875\n",
      "Decision Tree 0.9955\n"
     ]
    }
   ],
   "execution_count": 152
  },
  {
   "metadata": {},
   "cell_type": "markdown",
   "source": "These accuracy scores are exceptionally high, which is unusual. This may be a sign that the data has characteristics that are too easy for the models to predict, such as a high correlation between certain features.",
   "id": "50d111c2cd726f11"
  },
  {
   "metadata": {},
   "cell_type": "markdown",
   "source": "Let's examine the correlation between the target variable and each feature in the dataset.",
   "id": "8b1198a251acec0d"
  },
  {
   "metadata": {
    "ExecuteTime": {
     "end_time": "2024-11-14T08:24:11.510806Z",
     "start_time": "2024-11-14T08:24:11.469375Z"
    }
   },
   "cell_type": "code",
   "source": [
    "# Calculate and display the correlation between each feature and the target variable ('Exited'), excluding the target variable\n",
    "print(df.corr()['Exited'].drop('Exited').sort_values(ascending=False))"
   ],
   "id": "351920c8817b2cd7",
   "outputs": [
    {
     "name": "stdout",
     "output_type": "stream",
     "text": [
      "Complain              0.995693\n",
      "Age                   0.285296\n",
      "_Germany              0.173313\n",
      "Balance               0.118577\n",
      "_Female               0.106267\n",
      "_DIAMOND              0.020089\n",
      "EstimatedSalary       0.012490\n",
      "_PLATINUM            -0.000276\n",
      "_SILVER              -0.003834\n",
      "Point Earned         -0.004628\n",
      "Satisfaction Score   -0.005849\n",
      "HasCrCard            -0.006976\n",
      "Tenure               -0.013656\n",
      "_GOLD                -0.015995\n",
      "CreditScore          -0.026771\n",
      "NumOfProducts        -0.047611\n",
      "_Spain               -0.052800\n",
      "_France              -0.104688\n",
      "_Male                -0.106267\n",
      "IsActiveMember       -0.156356\n",
      "Name: Exited, dtype: float64\n"
     ]
    }
   ],
   "execution_count": 153
  },
  {
   "metadata": {},
   "cell_type": "markdown",
   "source": [
    "The correlation between the target variable and the 'Complain' column is 0.9956. This value is extremely close to 1 and indicates a very strong relationship. When a customer has a complaint, it almost always results in them exiting.  \n",
    "The high accuracy of the models is likely due to this near-perfect relationship.  "
   ],
   "id": "93c2168b3e6b7baa"
  },
  {
   "metadata": {
    "ExecuteTime": {
     "end_time": "2024-11-14T08:24:18.388958Z",
     "start_time": "2024-11-14T08:24:18.083247Z"
    }
   },
   "cell_type": "code",
   "source": [
    "# Visualize the relationship between 'Complain' and 'Exited'.\n",
    "g = sns.catplot(x='Complain', hue='Exited', data=df, kind='count')\n",
    "plt.show()\n",
    "\n",
    "# Count the number of rows where 'Exited' and 'Complain' have matching values\n",
    "matching_count = (df['Exited'] == df['Complain']).sum()\n",
    "print(matching_count)"
   ],
   "id": "40663a089afcfa11",
   "outputs": [
    {
     "data": {
      "text/plain": [
       "<Figure size 557.75x500 with 1 Axes>"
      ],
      "image/png": "[encoded data removed]"
     },
     "metadata": {},
     "output_type": "display_data"
    },
    {
     "name": "stdout",
     "output_type": "stream",
     "text": [
      "9986\n"
     ]
    }
   ],
   "execution_count": 154
  },
  {
   "metadata": {},
   "cell_type": "markdown",
   "source": [
    "Based on the plot, it appears that the number of customers who exited without a complaint is too small to be clearly visible, as is the case for customers who complained but did not exit.  \n",
    "There are 9,986 rows out of 10,000 where the values in the 'Exited' and 'Complain' columns match."
   ],
   "id": "903f6710c3b20936"
  },
  {
   "metadata": {},
   "cell_type": "markdown",
   "source": "Let us remove the 'Complain' column and re-evaluate.",
   "id": "ceb4b40a160da0c2"
  },
  {
   "metadata": {
    "ExecuteTime": {
     "end_time": "2024-11-14T08:24:23.740790Z",
     "start_time": "2024-11-14T08:24:23.729095Z"
    }
   },
   "cell_type": "code",
   "source": [
    "# Creating feature and target arrays\n",
    "# Create the feature array that includes all columns except the target varible('Exited') and the 'Complain' column.\n",
    "X = df.drop(['Exited', 'Complain'], axis=1)\n",
    "# The 'Exited' column is the target variable\n",
    "y = df['Exited']\n",
    "print(X.shape, y.shape)"
   ],
   "id": "72e6190c03c8eb4b",
   "outputs": [
    {
     "name": "stdout",
     "output_type": "stream",
     "text": [
      "(10000, 19) (10000,)\n"
     ]
    }
   ],
   "execution_count": 155
  },
  {
   "metadata": {
    "ExecuteTime": {
     "end_time": "2024-11-14T08:24:26.858642Z",
     "start_time": "2024-11-14T08:24:25.839357Z"
    }
   },
   "cell_type": "code",
   "source": [
    "# Train models with the updated feature array and evaluate their performance using cross-validation\n",
    "X_train, X_test, y_train, y_test = train_test_split(X, y, test_size=0.2, random_state=20, stratify=y)\n",
    "scaler = StandardScaler()\n",
    "X_train = scaler.fit_transform(X_train)\n",
    "X_test = scaler.transform(X_test)\n",
    "\n",
    "models = {\"Logistic Regression\": LogisticRegression(), \"KNN\": KNeighborsClassifier(), \"Decision Tree\": DecisionTreeClassifier()}\n",
    "results = []\n",
    "for model in models.values():\n",
    "    kf = KFold(n_splits=10, random_state=20, shuffle=True)\n",
    "    cv_results = cross_val_score(model, X_train, y_train, cv=kf)\n",
    "    results.append(cv_results)\n",
    "    \n",
    "# Plot boxplots of the cross-validation results for each model\n",
    "plt.boxplot(results, tick_labels=models.keys())\n",
    "plt.show()"
   ],
   "id": "bbe6126a61f7f62a",
   "outputs": [
    {
     "data": {
      "text/plain": [
       "<Figure size 640x480 with 1 Axes>"
      ],
      "image/png": "[encoded data removed]"
     },
     "metadata": {},
     "output_type": "display_data"
    }
   ],
   "execution_count": 156
  },
  {
   "metadata": {},
   "cell_type": "markdown",
   "source": "The cross-validation scores now range from 0.77 to 0.83. This is a significant decrease.",
   "id": "e43b8662ef726077"
  },
  {
   "metadata": {
    "ExecuteTime": {
     "end_time": "2024-11-14T08:24:33.934750Z",
     "start_time": "2024-11-14T08:24:33.613467Z"
    }
   },
   "cell_type": "code",
   "source": [
    "for name, model in models.items():\n",
    "    model.fit(X_train, y_train)\n",
    "    test_score = model.score(X_test, y_test)\n",
    "    print(name, test_score)"
   ],
   "id": "dcf33fda5bf02919",
   "outputs": [
    {
     "name": "stdout",
     "output_type": "stream",
     "text": [
      "Logistic Regression 0.803\n",
      "KNN 0.814\n",
      "Decision Tree 0.79\n"
     ]
    }
   ],
   "execution_count": 157
  },
  {
   "metadata": {},
   "cell_type": "markdown",
   "source": "The accuracy scores are significantly lower but still decent.",
   "id": "4fe846a83f43724d"
  }
 ],
 "metadata": {
  "kernelspec": {
   "display_name": "Python 3 (ipykernel)",
   "language": "python",
   "name": "python3"
  },
  "language_info": {
   "codemirror_mode": {
    "name": "ipython",
    "version": 2
   },
   "file_extension": ".py",
   "mimetype": "text/x-python",
   "name": "python",
   "nbconvert_exporter": "python",
   "pygments_lexer": "ipython2",
   "version": "2.7.6"
  }
 },
 "nbformat": 4,
 "nbformat_minor": 5
}
